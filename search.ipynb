{
 "cells": [
  {
   "cell_type": "code",
   "execution_count": 1,
   "outputs": [],
   "source": [
    "%load_ext autoreload\n",
    "%autoreload 2"
   ],
   "metadata": {
    "collapsed": false
   }
  },
  {
   "cell_type": "markdown",
   "source": [
    "## Investigating greedy decoding"
   ],
   "metadata": {
    "collapsed": false
   }
  },
  {
   "cell_type": "code",
   "execution_count": 2,
   "outputs": [],
   "source": [
    "import wandb\n",
    "import torch\n",
    "\n",
    "from Encoder import EncoderRNN\n",
    "from Decoder import DecoderRNN"
   ],
   "metadata": {
    "collapsed": false
   }
  },
  {
   "cell_type": "code",
   "execution_count": 3,
   "outputs": [],
   "source": [
    "device = \"cuda:0\" if torch.cuda.is_available() else \"cpu\""
   ],
   "metadata": {
    "collapsed": false
   }
  },
  {
   "cell_type": "code",
   "execution_count": 4,
   "outputs": [
    {
     "name": "stderr",
     "output_type": "stream",
     "text": [
      "Failed to detect the name of this notebook, you can set it manually with the WANDB_NOTEBOOK_NAME environment variable to enable code saving.\n",
      "\u001B[34m\u001B[1mwandb\u001B[0m: Currently logged in as: \u001B[33mlukasm\u001B[0m. Use \u001B[1m`wandb login --relogin`\u001B[0m to force relogin\n"
     ]
    }
   ],
   "source": [
    "wandb.login()\n",
    "api = wandb.Api()"
   ],
   "metadata": {
    "collapsed": false
   }
  },
  {
   "cell_type": "code",
   "execution_count": 5,
   "outputs": [],
   "source": [
    "from Dataloader import Dataloader, get_dataset_path\n",
    "\n",
    "dataloader = Dataloader()\n",
    "\n",
    "train_path = get_dataset_path('SCAN/length_split', 'length', 'train')\n",
    "train_X, train_Y = dataloader.fit_transform(train_path)\n",
    "test_path = get_dataset_path('SCAN/length_split', 'length', 'test')\n",
    "test_X, test_Y = dataloader.transform(test_path)"
   ],
   "metadata": {
    "collapsed": false
   }
  },
  {
   "cell_type": "code",
   "execution_count": 6,
   "outputs": [],
   "source": [
    "import yaml\n",
    "\n",
    "def load_model(run):\n",
    "    print(f'getting model for run https://wandb.ai/project-group-1/Paper-Implemenation/runs/{run}')\n",
    "    run_path = f'project-group-1/Paper-Implemenation/{run}'\n",
    "    run = api.run(run_path)\n",
    "    files = run.files()\n",
    "\n",
    "    for file in files:\n",
    "        file.download(replace=True, root=f'./saved_models/{run}')\n",
    "\n",
    "    with open(f'./saved_models/{run}/config.yaml', 'r') as f:\n",
    "        config = yaml.safe_load(f.read())\n",
    "\n",
    "    rnn_type = config['rnn-type']['value']\n",
    "    input_size = config['input_size']['value']\n",
    "    output_size = config['output_size']['value']\n",
    "    hidden_size = config['hidden_units']['value']\n",
    "    hidden_layers = config['layers']['value']\n",
    "    dropout = config['dropout']['value']\n",
    "    attention = config['attention']['value']\n",
    "\n",
    "    print(\n",
    "        f'model: rnn_type={rnn_type}, input_size={input_size}, output_size={output_size}, '\n",
    "        f'hidden_size={hidden_size}, hiddel_layers={hidden_layers},'\n",
    "        f'dropout={dropout}, attention={attention}'\n",
    "    )\n",
    "\n",
    "    encoder = EncoderRNN(\n",
    "        RNN_type=rnn_type,\n",
    "        input_size=input_size,\n",
    "        hidden_size=hidden_size,\n",
    "        hidden_layers=hidden_layers,\n",
    "        dropout=dropout\n",
    "    )\n",
    "    encoder.load_state_dict(torch.load(f'saved_models/{run}/encoder.pt'))\n",
    "    encoder.to(device)\n",
    "    encoder.eval()\n",
    "\n",
    "    decoder = DecoderRNN(\n",
    "        RNN_type=rnn_type,\n",
    "        input_size=hidden_size,\n",
    "        output_size=output_size,\n",
    "        hidden_size=hidden_size,\n",
    "        hidden_layers=hidden_layers,\n",
    "        dropout=dropout,\n",
    "        attention=attention\n",
    "    )\n",
    "    decoder.load_state_dict(torch.load(f'saved_models/{run}/decoder.pt'))\n",
    "    decoder.to(device)\n",
    "    decoder.eval()\n",
    "\n",
    "    return encoder, decoder"
   ],
   "metadata": {
    "collapsed": false
   }
  },
  {
   "cell_type": "code",
   "execution_count": 7,
   "outputs": [],
   "source": [
    "from Lang import Lang\n",
    "\n",
    "def encode(encoder, commands):\n",
    "    encoder_hidden = encoder.initHidden()\n",
    "    encoder_outputs = torch.zeros(commands.shape[0], encoder.hidden_size, device=device)\n",
    "\n",
    "    for idx, command in enumerate(commands):\n",
    "        encoder_output, encoder_hidden = encoder(command, encoder_hidden)\n",
    "        encoder_outputs[idx] = encoder_output[0, 0]\n",
    "\n",
    "    return encoder_hidden, encoder_outputs\n",
    "\n",
    "def score_actions(encoder, decoder, commands, gold_actions, teacher_forcing=False):\n",
    "    with torch.no_grad():\n",
    "        encoder_hidden, encoder_outputs = encode(encoder, commands)\n",
    "\n",
    "        decoder_hidden = encoder_hidden\n",
    "        decoder_input = torch.tensor(Lang.SOS_token, dtype=torch.long, device=device)\n",
    "        decoder_outputs = torch.zeros(gold_actions.shape[0], dtype=torch.long, device=device)\n",
    "\n",
    "        total_score = 0\n",
    "        for idx, gold_action in enumerate(gold_actions):\n",
    "            decoder_output, decoder_hidden = decoder(decoder_input, decoder_hidden, encoder_outputs)\n",
    "\n",
    "            action = gold_action[0] if teacher_forcing else decoder_output.argmax().detach()\n",
    "            score = decoder_output[0, action].detach().item()\n",
    "            total_score += score\n",
    "\n",
    "            decoder_outputs[idx] = action\n",
    "\n",
    "            if not teacher_forcing and action == Lang.EOS_token:\n",
    "                break\n",
    "\n",
    "            decoder_input = action\n",
    "\n",
    "        return decoder_outputs, total_score"
   ],
   "metadata": {
    "collapsed": false
   }
  },
  {
   "cell_type": "code",
   "execution_count": 8,
   "outputs": [],
   "source": [
    "import pandas as pd\n",
    "\n",
    "def get_errors_df(encoder, decoder):\n",
    "    error_results = []\n",
    "    for idx, (commands, gold_actions) in enumerate(zip(test_X, test_Y)):\n",
    "        actions, score = score_actions(encoder, decoder, commands, gold_actions)\n",
    "\n",
    "        if not torch.equal(actions, gold_actions.view(1, -1)[0]):\n",
    "            _, gold_score = score_actions(encoder, decoder, commands, gold_actions, teacher_forcing=True)\n",
    "            error_results.append((idx, commands.shape[0], torch.count_nonzero(actions).item(), gold_actions.shape[0], score, gold_score))\n",
    "\n",
    "    return pd.DataFrame(error_results, columns=['idx', 'commands', 'pred_actions', 'gold_actions', 'pred_score', 'gold_score'])"
   ],
   "metadata": {
    "collapsed": false
   }
  },
  {
   "cell_type": "code",
   "execution_count": 9,
   "outputs": [],
   "source": [
    "def collect_error_data(runs):\n",
    "    dfs = []\n",
    "    for run, kind in runs:\n",
    "        encoder, decoder = load_model(run)\n",
    "\n",
    "        print(f'collecting error data for {run} ({kind})')\n",
    "        errors_df = get_errors_df(encoder, decoder)\n",
    "        errors_df['run'] = run\n",
    "        errors_df['kind'] = kind\n",
    "        dfs.append(errors_df)\n",
    "\n",
    "    return pd.concat(dfs)"
   ],
   "metadata": {
    "collapsed": false
   }
  },
  {
   "cell_type": "code",
   "execution_count": 10,
   "outputs": [
    {
     "name": "stdout",
     "output_type": "stream",
     "text": [
      "getting model for run https://wandb.ai/project-group-1/Paper-Implemenation/runs/165ia2vw\n",
      "model: rnn_type=GRU, input_size=15, output_size=8, hidden_size=50, hiddel_layers=1,dropout=0.5, attention=True\n"
     ]
    },
    {
     "name": "stderr",
     "output_type": "stream",
     "text": [
      "/home/lukasm/code/Advanced-NLP-Paper-Implementation/venv/lib64/python3.10/site-packages/torch/nn/modules/rnn.py:67: UserWarning: dropout option adds dropout after all but last recurrent layer, so non-zero dropout expects num_layers greater than 1, but got dropout=0.5 and num_layers=1\n",
      "  warnings.warn(\"dropout option adds dropout after all but last \"\n"
     ]
    },
    {
     "name": "stdout",
     "output_type": "stream",
     "text": [
      "collecting error data for 165ia2vw (length-best)\n",
      "getting model for run https://wandb.ai/project-group-1/Paper-Implemenation/runs/2kfyfqfm\n",
      "model: rnn_type=GRU, input_size=15, output_size=8, hidden_size=50, hiddel_layers=1,dropout=0.5, attention=True\n",
      "collecting error data for 2kfyfqfm (length-best)\n"
     ]
    },
    {
     "name": "stderr",
     "output_type": "stream",
     "text": [
      "/home/lukasm/code/Advanced-NLP-Paper-Implementation/venv/lib64/python3.10/site-packages/torch/nn/modules/rnn.py:67: UserWarning: dropout option adds dropout after all but last recurrent layer, so non-zero dropout expects num_layers greater than 1, but got dropout=0.5 and num_layers=1\n",
      "  warnings.warn(\"dropout option adds dropout after all but last \"\n"
     ]
    },
    {
     "name": "stdout",
     "output_type": "stream",
     "text": [
      "getting model for run https://wandb.ai/project-group-1/Paper-Implemenation/runs/13hjlp4s\n",
      "model: rnn_type=GRU, input_size=15, output_size=8, hidden_size=50, hiddel_layers=1,dropout=0.5, attention=True\n",
      "collecting error data for 13hjlp4s (length-best)\n"
     ]
    },
    {
     "name": "stderr",
     "output_type": "stream",
     "text": [
      "/home/lukasm/code/Advanced-NLP-Paper-Implementation/venv/lib64/python3.10/site-packages/torch/nn/modules/rnn.py:67: UserWarning: dropout option adds dropout after all but last recurrent layer, so non-zero dropout expects num_layers greater than 1, but got dropout=0.5 and num_layers=1\n",
      "  warnings.warn(\"dropout option adds dropout after all but last \"\n"
     ]
    },
    {
     "name": "stdout",
     "output_type": "stream",
     "text": [
      "getting model for run https://wandb.ai/project-group-1/Paper-Implemenation/runs/8l8heh1g\n",
      "model: rnn_type=LSTM, input_size=15, output_size=8, hidden_size=200, hiddel_layers=2,dropout=0.5, attention=False\n",
      "collecting error data for 8l8heh1g (overall-best)\n",
      "getting model for run https://wandb.ai/project-group-1/Paper-Implemenation/runs/biap89fa\n",
      "model: rnn_type=LSTM, input_size=15, output_size=8, hidden_size=200, hiddel_layers=2,dropout=0.5, attention=False\n",
      "collecting error data for biap89fa (overall-best)\n",
      "getting model for run https://wandb.ai/project-group-1/Paper-Implemenation/runs/2zykyqzr\n",
      "model: rnn_type=LSTM, input_size=15, output_size=8, hidden_size=200, hiddel_layers=2,dropout=0.5, attention=False\n",
      "collecting error data for 2zykyqzr (overall-best)\n"
     ]
    }
   ],
   "source": [
    "runs = [\n",
    "    ('165ia2vw', 'length-best'),\n",
    "    ('2kfyfqfm', 'length-best'),\n",
    "    ('13hjlp4s', 'length-best'),\n",
    "\n",
    "    ('8l8heh1g', 'overall-best'),\n",
    "    ('biap89fa', 'overall-best'),\n",
    "    ('2zykyqzr', 'overall-best'),\n",
    "]\n",
    "errors_df = collect_error_data(runs)"
   ],
   "metadata": {
    "collapsed": false
   }
  },
  {
   "cell_type": "code",
   "execution_count": 11,
   "outputs": [
    {
     "data": {
      "text/plain": "   idx  commands  pred_actions  gold_actions  pred_score  gold_score  \\\n0    0         9            21            25   -0.381958   -1.595276   \n1    4         9            21            25   -0.132055   -2.540771   \n2   10        10            21            25   -0.228069   -2.499012   \n3   11        10            21            25   -1.600328   -5.868978   \n4   12        10            21            25   -0.388223   -2.729990   \n5   15         9            21            25   -0.593653   -1.353943   \n6   22        10            21            25   -0.134163   -2.796153   \n7   23        10            21            25   -0.154477   -2.820054   \n8   25        10            21            25   -0.618450   -1.086645   \n9   27        10            21            25   -0.467228   -1.752602   \n\n        run         kind  \n0  165ia2vw  length-best  \n1  165ia2vw  length-best  \n2  165ia2vw  length-best  \n3  165ia2vw  length-best  \n4  165ia2vw  length-best  \n5  165ia2vw  length-best  \n6  165ia2vw  length-best  \n7  165ia2vw  length-best  \n8  165ia2vw  length-best  \n9  165ia2vw  length-best  ",
      "text/html": "<div>\n<style scoped>\n    .dataframe tbody tr th:only-of-type {\n        vertical-align: middle;\n    }\n\n    .dataframe tbody tr th {\n        vertical-align: top;\n    }\n\n    .dataframe thead th {\n        text-align: right;\n    }\n</style>\n<table border=\"1\" class=\"dataframe\">\n  <thead>\n    <tr style=\"text-align: right;\">\n      <th></th>\n      <th>idx</th>\n      <th>commands</th>\n      <th>pred_actions</th>\n      <th>gold_actions</th>\n      <th>pred_score</th>\n      <th>gold_score</th>\n      <th>run</th>\n      <th>kind</th>\n    </tr>\n  </thead>\n  <tbody>\n    <tr>\n      <th>0</th>\n      <td>0</td>\n      <td>9</td>\n      <td>21</td>\n      <td>25</td>\n      <td>-0.381958</td>\n      <td>-1.595276</td>\n      <td>165ia2vw</td>\n      <td>length-best</td>\n    </tr>\n    <tr>\n      <th>1</th>\n      <td>4</td>\n      <td>9</td>\n      <td>21</td>\n      <td>25</td>\n      <td>-0.132055</td>\n      <td>-2.540771</td>\n      <td>165ia2vw</td>\n      <td>length-best</td>\n    </tr>\n    <tr>\n      <th>2</th>\n      <td>10</td>\n      <td>10</td>\n      <td>21</td>\n      <td>25</td>\n      <td>-0.228069</td>\n      <td>-2.499012</td>\n      <td>165ia2vw</td>\n      <td>length-best</td>\n    </tr>\n    <tr>\n      <th>3</th>\n      <td>11</td>\n      <td>10</td>\n      <td>21</td>\n      <td>25</td>\n      <td>-1.600328</td>\n      <td>-5.868978</td>\n      <td>165ia2vw</td>\n      <td>length-best</td>\n    </tr>\n    <tr>\n      <th>4</th>\n      <td>12</td>\n      <td>10</td>\n      <td>21</td>\n      <td>25</td>\n      <td>-0.388223</td>\n      <td>-2.729990</td>\n      <td>165ia2vw</td>\n      <td>length-best</td>\n    </tr>\n    <tr>\n      <th>5</th>\n      <td>15</td>\n      <td>9</td>\n      <td>21</td>\n      <td>25</td>\n      <td>-0.593653</td>\n      <td>-1.353943</td>\n      <td>165ia2vw</td>\n      <td>length-best</td>\n    </tr>\n    <tr>\n      <th>6</th>\n      <td>22</td>\n      <td>10</td>\n      <td>21</td>\n      <td>25</td>\n      <td>-0.134163</td>\n      <td>-2.796153</td>\n      <td>165ia2vw</td>\n      <td>length-best</td>\n    </tr>\n    <tr>\n      <th>7</th>\n      <td>23</td>\n      <td>10</td>\n      <td>21</td>\n      <td>25</td>\n      <td>-0.154477</td>\n      <td>-2.820054</td>\n      <td>165ia2vw</td>\n      <td>length-best</td>\n    </tr>\n    <tr>\n      <th>8</th>\n      <td>25</td>\n      <td>10</td>\n      <td>21</td>\n      <td>25</td>\n      <td>-0.618450</td>\n      <td>-1.086645</td>\n      <td>165ia2vw</td>\n      <td>length-best</td>\n    </tr>\n    <tr>\n      <th>9</th>\n      <td>27</td>\n      <td>10</td>\n      <td>21</td>\n      <td>25</td>\n      <td>-0.467228</td>\n      <td>-1.752602</td>\n      <td>165ia2vw</td>\n      <td>length-best</td>\n    </tr>\n  </tbody>\n</table>\n</div>"
     },
     "execution_count": 11,
     "metadata": {},
     "output_type": "execute_result"
    }
   ],
   "source": [
    "errors_df[:10]"
   ],
   "metadata": {
    "collapsed": false
   }
  },
  {
   "cell_type": "code",
   "execution_count": 12,
   "outputs": [
    {
     "data": {
      "text/plain": "Empty DataFrame\nColumns: [idx, commands, pred_actions, gold_actions, pred_score, gold_score, run, kind]\nIndex: []",
      "text/html": "<div>\n<style scoped>\n    .dataframe tbody tr th:only-of-type {\n        vertical-align: middle;\n    }\n\n    .dataframe tbody tr th {\n        vertical-align: top;\n    }\n\n    .dataframe thead th {\n        text-align: right;\n    }\n</style>\n<table border=\"1\" class=\"dataframe\">\n  <thead>\n    <tr style=\"text-align: right;\">\n      <th></th>\n      <th>idx</th>\n      <th>commands</th>\n      <th>pred_actions</th>\n      <th>gold_actions</th>\n      <th>pred_score</th>\n      <th>gold_score</th>\n      <th>run</th>\n      <th>kind</th>\n    </tr>\n  </thead>\n  <tbody>\n  </tbody>\n</table>\n</div>"
     },
     "execution_count": 12,
     "metadata": {},
     "output_type": "execute_result"
    }
   ],
   "source": [
    "# No examples where gold sequence was more likely that the predicted (greedy) sequence\n",
    "errors_df[errors_df['gold_score'] > errors_df['pred_score']]"
   ],
   "metadata": {
    "collapsed": false
   }
  },
  {
   "cell_type": "code",
   "execution_count": 13,
   "outputs": [
    {
     "name": "stderr",
     "output_type": "stream",
     "text": [
      "/tmp/ipykernel_774279/1203592586.py:3: FutureWarning: Indexing with multiple keys (implicitly converted to a tuple of keys) will be deprecated, use a list instead.\n",
      "  errors_df\\\n"
     ]
    },
    {
     "data": {
      "text/plain": "                      pred_actions gold_actions pred_score  gold_score\n                              mean         mean       mean        mean\ncommands kind                                                         \n5        length-best     23.350000    25.000000  -2.581688 -104.542457\n         overall-best    17.375000    25.000000  -0.145458  -42.148958\n7        length-best     22.622396    26.000000  -2.234698  -89.757337\n         overall-best    18.052083    26.000000  -0.027053  -62.175669\n8        length-best     22.953461    27.112275  -2.324665 -100.589481\n         overall-best    19.172454    27.111111  -0.026101  -65.182991\n9        length-best     25.157743    29.369748  -2.686423 -121.542991\n         overall-best    21.857811    29.741357  -0.045718  -65.568591\n10       length-best     29.708061    34.454053  -2.580476 -144.785450\n         overall-best    26.825380    35.654693  -0.098439  -75.678247",
      "text/html": "<div>\n<style scoped>\n    .dataframe tbody tr th:only-of-type {\n        vertical-align: middle;\n    }\n\n    .dataframe tbody tr th {\n        vertical-align: top;\n    }\n\n    .dataframe thead tr th {\n        text-align: left;\n    }\n\n    .dataframe thead tr:last-of-type th {\n        text-align: right;\n    }\n</style>\n<table border=\"1\" class=\"dataframe\">\n  <thead>\n    <tr>\n      <th></th>\n      <th></th>\n      <th>pred_actions</th>\n      <th>gold_actions</th>\n      <th>pred_score</th>\n      <th>gold_score</th>\n    </tr>\n    <tr>\n      <th></th>\n      <th></th>\n      <th>mean</th>\n      <th>mean</th>\n      <th>mean</th>\n      <th>mean</th>\n    </tr>\n    <tr>\n      <th>commands</th>\n      <th>kind</th>\n      <th></th>\n      <th></th>\n      <th></th>\n      <th></th>\n    </tr>\n  </thead>\n  <tbody>\n    <tr>\n      <th rowspan=\"2\" valign=\"top\">5</th>\n      <th>length-best</th>\n      <td>23.350000</td>\n      <td>25.000000</td>\n      <td>-2.581688</td>\n      <td>-104.542457</td>\n    </tr>\n    <tr>\n      <th>overall-best</th>\n      <td>17.375000</td>\n      <td>25.000000</td>\n      <td>-0.145458</td>\n      <td>-42.148958</td>\n    </tr>\n    <tr>\n      <th rowspan=\"2\" valign=\"top\">7</th>\n      <th>length-best</th>\n      <td>22.622396</td>\n      <td>26.000000</td>\n      <td>-2.234698</td>\n      <td>-89.757337</td>\n    </tr>\n    <tr>\n      <th>overall-best</th>\n      <td>18.052083</td>\n      <td>26.000000</td>\n      <td>-0.027053</td>\n      <td>-62.175669</td>\n    </tr>\n    <tr>\n      <th rowspan=\"2\" valign=\"top\">8</th>\n      <th>length-best</th>\n      <td>22.953461</td>\n      <td>27.112275</td>\n      <td>-2.324665</td>\n      <td>-100.589481</td>\n    </tr>\n    <tr>\n      <th>overall-best</th>\n      <td>19.172454</td>\n      <td>27.111111</td>\n      <td>-0.026101</td>\n      <td>-65.182991</td>\n    </tr>\n    <tr>\n      <th rowspan=\"2\" valign=\"top\">9</th>\n      <th>length-best</th>\n      <td>25.157743</td>\n      <td>29.369748</td>\n      <td>-2.686423</td>\n      <td>-121.542991</td>\n    </tr>\n    <tr>\n      <th>overall-best</th>\n      <td>21.857811</td>\n      <td>29.741357</td>\n      <td>-0.045718</td>\n      <td>-65.568591</td>\n    </tr>\n    <tr>\n      <th rowspan=\"2\" valign=\"top\">10</th>\n      <th>length-best</th>\n      <td>29.708061</td>\n      <td>34.454053</td>\n      <td>-2.580476</td>\n      <td>-144.785450</td>\n    </tr>\n    <tr>\n      <th>overall-best</th>\n      <td>26.825380</td>\n      <td>35.654693</td>\n      <td>-0.098439</td>\n      <td>-75.678247</td>\n    </tr>\n  </tbody>\n</table>\n</div>"
     },
     "execution_count": 13,
     "metadata": {},
     "output_type": "execute_result"
    }
   ],
   "source": [
    "import numpy as np\n",
    "\n",
    "errors_df\\\n",
    "    .groupby(['commands', 'kind'])['pred_actions', 'gold_actions', 'pred_score', 'gold_score']\\\n",
    "    .agg({'pred_actions': [np.mean], 'gold_actions': [np.mean], 'pred_score': [np.mean], 'gold_score': [np.mean]})"
   ],
   "metadata": {
    "collapsed": false
   }
  },
  {
   "cell_type": "markdown",
   "source": [
    "## Investigating model behaviour when teacher forcing golden actions"
   ],
   "metadata": {
    "collapsed": false
   }
  },
  {
   "cell_type": "code",
   "execution_count": 324,
   "outputs": [],
   "source": [
    "def get_ranking(decoder_output, gold_action):\n",
    "    pairs = []\n",
    "    for action, logit in enumerate(decoder_output[0]):\n",
    "        pairs.append((action, logit.item()))\n",
    "\n",
    "    action_rankings, action_scores = zip(*sorted(pairs, key=lambda p: p[1], reverse=True))\n",
    "\n",
    "    rank = action_rankings.index(gold_action)\n",
    "    score = action_scores[rank]\n",
    "    pred_action = action_rankings[0]\n",
    "\n",
    "    return rank, score, pred_action\n",
    "\n",
    "\n",
    "def rank_gold_actions(encoder, decoder, commands, gold_actions):\n",
    "    with torch.no_grad():\n",
    "        encoder_hidden, encoder_outputs = encode(encoder, commands)\n",
    "\n",
    "        decoder_hidden = encoder_hidden\n",
    "        decoder_input = torch.tensor(Lang.SOS_token, dtype=torch.long, device=device)\n",
    "\n",
    "        ranks = []\n",
    "        total_score = 0\n",
    "        pred_actions = []\n",
    "        for idx, gold_action in enumerate(gold_actions):\n",
    "            decoder_output, decoder_hidden = decoder(decoder_input, decoder_hidden, encoder_outputs)\n",
    "\n",
    "            rank, score, pred_action = get_ranking(decoder_output, gold_action[0])\n",
    "            ranks.append(rank)\n",
    "            total_score += score\n",
    "            pred_actions.append(pred_action)\n",
    "\n",
    "            decoder_input = gold_action[0]\n",
    "\n",
    "        return ranks, total_score, pred_actions"
   ],
   "metadata": {
    "collapsed": false
   }
  },
  {
   "cell_type": "code",
   "execution_count": 325,
   "outputs": [],
   "source": [
    "import matplotlib.pyplot as plt\n",
    "\n",
    "def action_to_label(action):\n",
    "    if isinstance(action, torch.Tensor):\n",
    "        action = action[0].item()\n",
    "    return dataloader.output_lang.index2word[action]\n",
    "\n",
    "pretty_mapping = {\n",
    "    'SOS': 'SOS',\n",
    "    'EOS': 'EOS',\n",
    "    'I_WALK': 'WALK',\n",
    "    'I_TURN_RIGHT': 'RTURN',\n",
    "    'I_TURN_LEFT': 'LTURN',\n",
    "    'I_RUN': 'RUN',\n",
    "    'I_JUMP': 'JUMP',\n",
    "    'I_LOOK': 'LOOK'\n",
    "}\n",
    "\n",
    "def generate_image(commands, ranks, gold_actions, pred_actions, kind, run, seed, sample_id, img_path=None):\n",
    "    action_labels = []\n",
    "    for idx, (g_action, p_action) in enumerate(zip(gold_actions, pred_actions)):\n",
    "        g_label = action_to_label(g_action)\n",
    "        p_label = action_to_label(p_action)\n",
    "\n",
    "        if g_action != p_action:\n",
    "            label = f'{pretty_mapping[p_label]} > {pretty_mapping[g_label]} [{idx}]'\n",
    "        else:\n",
    "            label = f'{pretty_mapping[g_label]} [{idx}]'\n",
    "        action_labels.append(label)\n",
    "\n",
    "    fig = plt.figure()\n",
    "    ax = fig.add_subplot()\n",
    "\n",
    "    plt.rcParams[\"figure.figsize\"] = (9,3)\n",
    "    plt.title(f'Ranks of gold seq actions ({kind}, {run}, {seed}, {sample_id})')\n",
    "    plt.xticks(rotation=90, fontsize=10)\n",
    "    plt.yticks(ticks=range(0, 8), labels=range(0, 8))\n",
    "    pretty_commands = ' '.join([dataloader.input_lang.index2word[command] for command in commands.view(1, -1)[0].cpu().numpy()[:-1]])\n",
    "    plt.xlabel(pretty_commands, fontsize='large', fontweight='bold', horizontalalignment='left', x=0)\n",
    "    plt.ylim(0, 8)\n",
    "    plt.ylabel('rank')\n",
    "    plt.plot(action_labels, ranks, marker='.', c='green')\n",
    "    [t.set_color('red') for t in ax.xaxis.get_ticklabels() if '>' in t.get_text()]\n",
    "\n",
    "    if img_path:\n",
    "        plt.savefig(img_path, bbox_inches='tight')\n",
    "        plt.close()\n",
    "    else:\n",
    "        plt.show()"
   ],
   "metadata": {
    "collapsed": false
   }
  },
  {
   "cell_type": "code",
   "execution_count": null,
   "outputs": [],
   "source": [
    "# For testing\n",
    "encoder, decoder = load_model('165ia2vw')"
   ],
   "metadata": {
    "collapsed": false,
    "pycharm": {
     "is_executing": true
    }
   }
  },
  {
   "cell_type": "code",
   "execution_count": 323,
   "outputs": [
    {
     "name": "stdout",
     "output_type": "stream",
     "text": [
      "  cmds [2, 14, 6, 13, 9, 3, 14, 8, 13, 1]\n",
      "gold_t [7, 3, 7, 3, 7, 3, 7, 3, 7, 3, 7, 3, 7, 3, 7, 3, 7, 3, 7, 3, 7, 3, 7, 3, 5, 2, 5, 2, 5, 2, 5, 2, 5, 2, 5, 2, 5, 2, 5, 2, 5, 2, 5, 2, 5, 2, 5, 2, 1]\n",
      "gold_p [7, 3, 7, 3, 7, 3, 7, 3, 7, 3, 7, 3, 7, 3, 7, 3, 5, 2, 5, 2, 5, 2, 5, 2, 5, 2, 5, 2, 5, 2, 5, 2, 5, 2, 5, 2, 5, 2, 5, 2, 5, 2, 5, 2, 5, 2, 5, 2, 5]\n",
      " ranks [0, 0, 0, 0, 0, 0, 0, 0, 0, 0, 0, 0, 0, 0, 0, 0, 1, 3, 1, 6, 3, 3, 2, 5, 0, 0, 0, 0, 0, 0, 0, 0, 0, 0, 0, 0, 0, 0, 0, 0, 0, 0, 0, 0, 0, 0, 0, 0, 1]\n"
     ]
    },
    {
     "data": {
      "text/plain": "<Figure size 900x300 with 1 Axes>",
      "image/png": "[encoded data removed]"
     },
     "metadata": {},
     "output_type": "display_data"
    }
   ],
   "source": [
    "# sample_idx = 0\n",
    "# sample_idx = 3000\n",
    "sample_idx = 3898\n",
    "commands, gold_actions = test_X[sample_idx], test_Y[sample_idx]\n",
    "\n",
    "ranks, total_score, pred_actions = rank_gold_actions(encoder, decoder, commands, gold_actions)\n",
    "\n",
    "print('  cmds', list(commands.view(1, -1)[0].cpu().numpy()))\n",
    "print('gold_t', list(gold_actions.view(1, -1)[0].cpu().numpy()))\n",
    "print('gold_p', pred_actions)\n",
    "print(' ranks', ranks)\n",
    "\n",
    "generate_image(commands, ranks, gold_actions, pred_actions, 'length-best', '165ia2vw', 0, sample_idx, None)"
   ],
   "metadata": {
    "collapsed": false
   }
  },
  {
   "cell_type": "code",
   "execution_count": 326,
   "outputs": [],
   "source": [
    "import os\n",
    "import random\n",
    "\n",
    "seed = 7\n",
    "random.seed(seed)\n",
    "\n",
    "def generate_images(kind, run, sample_frac):\n",
    "    img_dir = f'images/search/{kind}/{run}'\n",
    "    os.makedirs(img_dir, exist_ok=True)\n",
    "\n",
    "    encoder, decoder = load_model(run)\n",
    "\n",
    "    total_samples = int(len(test_X) * sample_frac)\n",
    "\n",
    "    samples = []\n",
    "    while len(samples) <= total_samples:\n",
    "        sample_id = random.randint(0, len(test_X) - 1)\n",
    "\n",
    "        if sample_id not in samples:\n",
    "            commands, gold_actions = test_X[sample_id], test_Y[sample_id]\n",
    "\n",
    "            ranks, total_score, pred_actions = rank_gold_actions(encoder, decoder, commands, gold_actions)\n",
    "            gold_actions = list(gold_actions.view(1, -1)[0].cpu().numpy())\n",
    "\n",
    "            if pred_actions != gold_actions:\n",
    "                if len(samples) % 50 == 0:\n",
    "                    print(f'progress: {len(samples)}/{total_samples}')\n",
    "                samples.append(sample_id)\n",
    "                generate_image(commands, ranks, gold_actions, pred_actions, kind, run, seed, sample_id, f'{img_dir}/{sample_id}.png')"
   ],
   "metadata": {
    "collapsed": false
   }
  },
  {
   "cell_type": "code",
   "execution_count": 327,
   "outputs": [
    {
     "name": "stdout",
     "output_type": "stream",
     "text": [
      "getting model for run https://wandb.ai/project-group-1/Paper-Implemenation/runs/165ia2vw\n",
      "model: rnn_type=GRU, input_size=15, output_size=8, hidden_size=50, hiddel_layers=1,dropout=0.5, attention=True\n",
      "progress: 0/392\n"
     ]
    },
    {
     "name": "stderr",
     "output_type": "stream",
     "text": [
      "/home/lukasm/code/Advanced-NLP-Paper-Implementation/venv/lib64/python3.10/site-packages/torch/nn/modules/rnn.py:67: UserWarning: dropout option adds dropout after all but last recurrent layer, so non-zero dropout expects num_layers greater than 1, but got dropout=0.5 and num_layers=1\n",
      "  warnings.warn(\"dropout option adds dropout after all but last \"\n"
     ]
    },
    {
     "name": "stdout",
     "output_type": "stream",
     "text": [
      "progress: 50/392\n",
      "progress: 100/392\n",
      "progress: 150/392\n",
      "progress: 200/392\n",
      "progress: 250/392\n",
      "progress: 300/392\n",
      "progress: 350/392\n"
     ]
    }
   ],
   "source": [
    "generate_images('length-best', '165ia2vw', 0.1)"
   ],
   "metadata": {
    "collapsed": false
   }
  },
  {
   "cell_type": "code",
   "execution_count": 328,
   "outputs": [
    {
     "name": "stdout",
     "output_type": "stream",
     "text": [
      "getting model for run https://wandb.ai/project-group-1/Paper-Implemenation/runs/2kfyfqfm\n",
      "model: rnn_type=GRU, input_size=15, output_size=8, hidden_size=50, hiddel_layers=1,dropout=0.5, attention=True\n",
      "progress: 0/392\n"
     ]
    },
    {
     "name": "stderr",
     "output_type": "stream",
     "text": [
      "/home/lukasm/code/Advanced-NLP-Paper-Implementation/venv/lib64/python3.10/site-packages/torch/nn/modules/rnn.py:67: UserWarning: dropout option adds dropout after all but last recurrent layer, so non-zero dropout expects num_layers greater than 1, but got dropout=0.5 and num_layers=1\n",
      "  warnings.warn(\"dropout option adds dropout after all but last \"\n"
     ]
    },
    {
     "name": "stdout",
     "output_type": "stream",
     "text": [
      "progress: 50/392\n",
      "progress: 100/392\n",
      "progress: 150/392\n",
      "progress: 200/392\n",
      "progress: 250/392\n",
      "progress: 300/392\n",
      "progress: 350/392\n"
     ]
    }
   ],
   "source": [
    "generate_images('length-best', '2kfyfqfm', 0.1)"
   ],
   "metadata": {
    "collapsed": false
   }
  },
  {
   "cell_type": "code",
   "execution_count": 329,
   "outputs": [
    {
     "name": "stdout",
     "output_type": "stream",
     "text": [
      "getting model for run https://wandb.ai/project-group-1/Paper-Implemenation/runs/8l8heh1g\n",
      "model: rnn_type=LSTM, input_size=15, output_size=8, hidden_size=200, hiddel_layers=2,dropout=0.5, attention=False\n",
      "progress: 0/392\n",
      "progress: 50/392\n",
      "progress: 100/392\n",
      "progress: 150/392\n",
      "progress: 200/392\n",
      "progress: 250/392\n",
      "progress: 300/392\n",
      "progress: 350/392\n"
     ]
    }
   ],
   "source": [
    "generate_images('overall-best', '8l8heh1g', 0.1)"
   ],
   "metadata": {
    "collapsed": false
   }
  },
  {
   "cell_type": "code",
   "execution_count": 330,
   "outputs": [
    {
     "name": "stdout",
     "output_type": "stream",
     "text": [
      "getting model for run https://wandb.ai/project-group-1/Paper-Implemenation/runs/biap89fa\n",
      "model: rnn_type=LSTM, input_size=15, output_size=8, hidden_size=200, hiddel_layers=2,dropout=0.5, attention=False\n",
      "progress: 0/392\n",
      "progress: 50/392\n",
      "progress: 100/392\n",
      "progress: 150/392\n",
      "progress: 200/392\n",
      "progress: 250/392\n",
      "progress: 300/392\n",
      "progress: 350/392\n"
     ]
    }
   ],
   "source": [
    "generate_images('overall-best', 'biap89fa', 0.1)"
   ],
   "metadata": {
    "collapsed": false
   }
  }
 ],
 "metadata": {
  "kernelspec": {
   "display_name": "Python 3",
   "language": "python",
   "name": "python3"
  },
  "language_info": {
   "codemirror_mode": {
    "name": "ipython",
    "version": 2
   },
   "file_extension": ".py",
   "mimetype": "text/x-python",
   "name": "python",
   "nbconvert_exporter": "python",
   "pygments_lexer": "ipython2",
   "version": "2.7.6"
  }
 },
 "nbformat": 4,
 "nbformat_minor": 0
}
