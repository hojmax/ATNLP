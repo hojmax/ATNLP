{
 "cells": [
  {
   "cell_type": "code",
   "execution_count": null,
   "metadata": {},
   "outputs": [],
   "source": [
    "!git clone https://github.com/brendenlake/SCAN.git\n",
    "%pip install -r requirements.txt --quiet"
   ]
  },
  {
   "cell_type": "code",
   "execution_count": null,
   "metadata": {},
   "outputs": [],
   "source": [
    "from Dataloader import Dataloader, get_dataset_path"
   ]
  },
  {
   "cell_type": "code",
   "execution_count": null,
   "metadata": {},
   "outputs": [],
   "source": [
    "config = {\n",
    "    'learning_rate': 0.001,\n",
    "    'teacher_forcing_ratio': 0.5,\n",
    "    'trials': int(1e5),\n",
    "    'gradient_clip_norm': 5,\n",
    "}"
   ]
  },
  {
   "cell_type": "code",
   "execution_count": null,
   "metadata": {},
   "outputs": [],
   "source": [
    "dataloader = Dataloader()\n",
    "\n",
    "train_path = get_dataset_path(config['_folder'], config['dataset'], 'train')\n",
    "train_X, train_Y = dataloader.fit_transform(train_path)\n",
    "test_path = get_dataset_path(config['_folder'], config['dataset'], 'test')\n",
    "test_X, test_Y = dataloader.transform(test_path)\n",
    "\n",
    "config['input_size'] = dataloader.input_lang.n_words\n",
    "config['output_size'] = dataloader.output_lang.n_words"
   ]
  }
 ],
 "metadata": {
  "kernelspec": {
   "display_name": "Python 3.11.0 64-bit",
   "language": "python",
   "name": "python3"
  },
  "language_info": {
   "codemirror_mode": {
    "name": "ipython",
    "version": 3
   },
   "file_extension": ".py",
   "mimetype": "text/x-python",
   "name": "python",
   "nbconvert_exporter": "python",
   "pygments_lexer": "ipython3",
   "version": "3.11.0"
  },
  "orig_nbformat": 4,
  "vscode": {
   "interpreter": {
    "hash": "aee8b7b246df8f9039afb4144a1f6fd8d2ca17a180786b69acc140d282b71a49"
   }
  }
 },
 "nbformat": 4,
 "nbformat_minor": 2
}
