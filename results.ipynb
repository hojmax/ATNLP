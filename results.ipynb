{
	"cells": [
		{
			"cell_type": "code",
			"execution_count": 1,
			"metadata": {},
			"outputs": [
				{
					"name": "stdout",
					"output_type": "stream",
					"text": [
						"fatal: destination path 'SCAN' already exists and is not an empty directory.\n",
						"Note: you may need to restart the kernel to use updated packages.\n"
					]
				}
			],
			"source": [
				"!git clone https://github.com/brendenlake/SCAN.git\n",
				"%pip install -r requirements.txt --quiet"
			]
		},
		{
			"cell_type": "code",
			"execution_count": 2,
			"metadata": {},
			"outputs": [
				{
					"name": "stderr",
					"output_type": "stream",
					"text": [
						"\u001b[34m\u001b[1mwandb\u001b[0m: Currently logged in as: \u001b[33mhojmax\u001b[0m (\u001b[33mrl-msps\u001b[0m). Use \u001b[1m`wandb login --relogin`\u001b[0m to force relogin\n"
					]
				}
			],
			"source": [
				"import wandb\n",
				"from Encoder import EncoderRNN\n",
				"from Decoder import DecoderRNN\n",
				"from Dataloader import Dataloader, get_dataset_path\n",
				"from Evaluate import get_accuracy, plot_attention, generate_cosine_latex_table, get_cosine_table, get_cosine_table2\n",
				"import torch\n",
				"import os\n",
				"device = \"cuda:0\" if torch.cuda.is_available() else \"cpu\"\n",
				"os.environ['WANDB_NOTEBOOK_NAME'] = 'results.ipynb'\n",
				"wandb.login()\n",
				"api = wandb.Api()"
			]
		},
		{
			"cell_type": "code",
			"execution_count": 3,
			"metadata": {},
			"outputs": [],
			"source": [
				"run_path = \"project-group-1/Paper-Implemenation/1niacmmy\"\n",
				"run = api.run(run_path)"
			]
		},
		{
			"cell_type": "code",
			"execution_count": 4,
			"metadata": {},
			"outputs": [],
			"source": [
				"files_to_restore = [\n",
				"    'encoder.pt',\n",
				"    'decoder.pt',\n",
				"    'input_lang.pkl',\n",
				"    'output_lang.pkl',\n",
				"    'max_length.txt'\n",
				"]\n",
				"files = run.files()\n",
				"\n",
				"for file in files:\n",
				"    if file.name in files_to_restore:\n",
				"        file.download(replace=True, root='./saved_models')\n",
				"\n",
				"config = run.config"
			]
		},
		{
			"cell_type": "code",
			"execution_count": 5,
			"metadata": {},
			"outputs": [],
			"source": [
				"dataloader = Dataloader()\n",
				"dataloader.load('./saved_models')\n",
				"test_path = get_dataset_path(config['_folder'], config['dataset'], 'test')\n",
				"test_X, test_Y = dataloader.transform(test_path)"
			]
		},
		{
			"cell_type": "code",
			"execution_count": 6,
			"metadata": {},
			"outputs": [],
			"source": [
				"encoder = EncoderRNN(\n",
				"    RNN_type=config['rnn-type'],\n",
				"    input_size=config['input_size'],\n",
				"    hidden_size=config['hidden_units'],\n",
				"    hidden_layers=config['layers'],\n",
				"    dropout=config['dropout']\n",
				").to(device)\n",
				"decoder = DecoderRNN(\n",
				"    RNN_type=config['rnn-type'],\n",
				"    input_size=config['hidden_units'],\n",
				"    hidden_size=config['hidden_units'],\n",
				"    hidden_layers=config['layers'],\n",
				"    dropout=config['dropout'],\n",
				"    attention=config['attention'],\n",
				"    output_size=config['output_size']\n",
				").to(device)\n"
			]
		},
		{
			"cell_type": "code",
			"execution_count": 7,
			"metadata": {},
			"outputs": [
				{
					"data": {
						"text/plain": [
							"<All keys matched successfully>"
						]
					},
					"execution_count": 7,
					"metadata": {},
					"output_type": "execute_result"
				}
			],
			"source": [
				"encoder.load_state_dict(torch.load('./saved_models/encoder.pt', map_location=device))\n",
				"decoder.load_state_dict(torch.load('./saved_models/decoder.pt', map_location=device))"
			]
		},
		{
			"cell_type": "code",
			"execution_count": 9,
			"metadata": {},
			"outputs": [
				{
					"name": "stdout",
					"output_type": "stream",
					"text": [
						"Encoding all words...\n",
						"Word: run\n",
						"run: 1.0000001192092896\n",
						"walk: 0.66630619764328\n",
						"look: 0.6578210592269897\n",
						"run after run: 0.5222382545471191\n",
						"walk after run: 0.5188137888908386\n",
						"look after run: 0.5185701847076416\n",
						"\n",
						"Word: jump\n",
						"walk: 0.24458806216716766\n",
						"run: 0.24216167628765106\n",
						"look: 0.1954694390296936\n",
						"turn right: 0.1742076873779297\n",
						"turn left: 0.1003132238984108\n",
						"walk after turn right: 0.08469123393297195\n",
						"\n",
						"Word: run twice\n",
						"run twice: 1.0\n",
						"walk twice: 0.8641841411590576\n",
						"look twice: 0.8578042387962341\n",
						"run twice and run twice: 0.7139161825180054\n",
						"run thrice and run twice: 0.7085099220275879\n",
						"walk thrice and run twice: 0.6941946744918823\n",
						"\n",
						"Word: jump twice\n",
						"run twice and run: 0.44663429260253906\n",
						"look twice and run: 0.4423865079879761\n",
						"walk twice and run: 0.4376722574234009\n",
						"run twice and walk: 0.40559035539627075\n",
						"walk twice and walk: 0.39960363507270813\n",
						"look twice and walk: 0.39621222019195557\n",
						"\n"
					]
				}
			],
			"source": [
				"a,b,c=get_cosine_table2(encoder,dataloader)"
			]
		},
		{
			"cell_type": "code",
			"execution_count": 10,
			"metadata": {},
			"outputs": [
				{
					"data": {
						"text/plain": [
							"['run', 'jump', 'run twice', 'jump twice']"
						]
					},
					"execution_count": 10,
					"metadata": {},
					"output_type": "execute_result"
				}
			],
			"source": [
				"a"
			]
		},
		{
			"cell_type": "code",
			"execution_count": 11,
			"metadata": {},
			"outputs": [
				{
					"data": {
						"text/plain": [
							"[['run', 'walk', 'look', 'run after run', 'walk after run', 'look after run'],\n",
							" ['walk', 'run', 'look', 'turn right', 'turn left', 'walk after turn right'],\n",
							" ['run twice',\n",
							"  'walk twice',\n",
							"  'look twice',\n",
							"  'run twice and run twice',\n",
							"  'run thrice and run twice',\n",
							"  'walk thrice and run twice'],\n",
							" ['run twice and run',\n",
							"  'look twice and run',\n",
							"  'walk twice and run',\n",
							"  'run twice and walk',\n",
							"  'walk twice and walk',\n",
							"  'look twice and walk']]"
						]
					},
					"execution_count": 11,
					"metadata": {},
					"output_type": "execute_result"
				}
			],
			"source": [
				"b"
			]
		},
		{
			"cell_type": "code",
			"execution_count": 18,
			"metadata": {},
			"outputs": [],
			"source": [
				"import numpy as np"
			]
		},
		{
			"cell_type": "code",
			"execution_count": 72,
			"metadata": {},
			"outputs": [],
			"source": [
				"last = []\n",
				"for j in range(6):\n",
				"    last.append([])\n",
				"    for i in range(4):\n",
				"        # Round float to 2 decimals\n",
				"        last[j].append(f'{b[i][j]}\\quad\\hfill {np.round(c[i][j], 2)}')"
			]
		},
		{
			"cell_type": "code",
			"execution_count": 73,
			"metadata": {},
			"outputs": [],
			"source": [
				"# Pandas dataframe\n",
				"import pandas as pd\n",
				"df = pd.DataFrame(last, columns=['run', 'jump', 'run twice', 'jump twice'])"
			]
		},
		{
			"cell_type": "code",
			"execution_count": 76,
			"metadata": {},
			"outputs": [
				{
					"name": "stdout",
					"output_type": "stream",
					"text": [
						"\\begin{tabular}{l|l|l|l}\n",
						"\\toprule\n",
						"                           run &                                  jump &                                 run twice &                         jump twice \\\\ \\hline\n",
						"\\midrule\n",
						"            run\\quad\\hfill 1.0 &                  walk\\quad\\hfill 0.24 &                  run twice\\quad\\hfill 1.0 &  run twice and run\\quad\\hfill 0.45 \\\\ \\hline\n",
						"          walk\\quad\\hfill 0.67 &                   run\\quad\\hfill 0.24 &                walk twice\\quad\\hfill 0.86 & look twice and run\\quad\\hfill 0.44 \\\\ \\hline\n",
						"          look\\quad\\hfill 0.66 &                   look\\quad\\hfill 0.2 &                look twice\\quad\\hfill 0.86 & walk twice and run\\quad\\hfill 0.44 \\\\ \\hline\n",
						" run after run\\quad\\hfill 0.52 &            turn right\\quad\\hfill 0.17 &   run twice and run twice\\quad\\hfill 0.71 & run twice and walk\\quad\\hfill 0.41 \\\\ \\hline\n",
						"walk after run\\quad\\hfill 0.52 &              turn left\\quad\\hfill 0.1 &  run thrice and run twice\\quad\\hfill 0.71 & walk twice and walk\\quad\\hfill 0.4 \\\\ \\hline\n",
						"look after run\\quad\\hfill 0.52 & walk after turn right\\quad\\hfill 0.08 & walk thrice and run twice\\quad\\hfill 0.69 & look twice and walk\\quad\\hfill 0.4 \\\\ \\hline\n",
						"\\bottomrule\n",
						"\\end{tabular}\n",
						"\n"
					]
				},
				{
					"name": "stderr",
					"output_type": "stream",
					"text": [
						"/var/folders/j8/qdr4bmbd6vv8nydcr40cfdhw0000gn/T/ipykernel_54487/1036477455.py:2: FutureWarning: In future versions `DataFrame.to_latex` is expected to utilise the base implementation of `Styler.to_latex` for formatting and rendering. The arguments signature may therefore change. It is recommended instead to use `DataFrame.style.to_latex` which also contains additional functionality.\n",
						"  print(df.to_latex(index=False)\n"
					]
				}
			],
			"source": [
				"# df To latex\n",
				"print(df.to_latex(index=False)\n",
				"        .replace('\\\\textbackslash ', '\\\\')\n",
				"        .replace('\\\\\\\\', '\\\\\\\\ \\hline')\n",
				"        .replace('llll', 'l|l|l|l')        \n",
				")"
			]
		},
		{
			"cell_type": "code",
			"execution_count": 12,
			"metadata": {},
			"outputs": [
				{
					"data": {
						"text/plain": [
							"[[1.0000001192092896,\n",
							"  0.66630619764328,\n",
							"  0.6578210592269897,\n",
							"  0.5222382545471191,\n",
							"  0.5188137888908386,\n",
							"  0.5185701847076416],\n",
							" [0.24458806216716766,\n",
							"  0.24216167628765106,\n",
							"  0.1954694390296936,\n",
							"  0.1742076873779297,\n",
							"  0.1003132238984108,\n",
							"  0.08469123393297195],\n",
							" [1.0,\n",
							"  0.8641841411590576,\n",
							"  0.8578042387962341,\n",
							"  0.7139161825180054,\n",
							"  0.7085099220275879,\n",
							"  0.6941946744918823],\n",
							" [0.44663429260253906,\n",
							"  0.4423865079879761,\n",
							"  0.4376722574234009,\n",
							"  0.40559035539627075,\n",
							"  0.39960363507270813,\n",
							"  0.39621222019195557]]"
						]
					},
					"execution_count": 12,
					"metadata": {},
					"output_type": "execute_result"
				}
			],
			"source": [
				"c"
			]
		},
		{
			"cell_type": "code",
			"execution_count": null,
			"metadata": {},
			"outputs": [],
			"source": []
		},
		{
			"cell_type": "code",
			"execution_count": null,
			"metadata": {},
			"outputs": [
				{
					"name": "stdout",
					"output_type": "stream",
					"text": [
						"run vs look: 0.66\n",
						"run vs walk: 0.67\n",
						"run vs walk after run: 0.52\n",
						"run vs run thrice after run: 0.49\n",
						"run vs run twice after run: 0.49\n",
						"jump vs run: 0.24\n",
						"jump vs walk: 0.24\n",
						"jump vs turn right: 0.17\n",
						"jump vs look right twice after walk twice: -0.05\n",
						"jump vs turn right after turn right: -0.02\n",
						"run twice vs look twice: 0.86\n",
						"run twice vs run twice and look opposite right thrice: 0.48\n",
						"run twice vs run twice and run right twice: 0.59\n",
						"run twice vs run twice and look opposite right twice: 0.62\n",
						"run twice vs walk twice and run twice: 0.68\n",
						"jump twice vs walk and walk: 0.36\n",
						"jump twice vs run and walk: 0.34\n",
						"jump twice vs walk opposite right and walk: 0.24\n",
						"jump twice vs look right and walk: 0.20\n",
						"jump twice vs walk right and walk: 0.22\n"
					]
				}
			],
			"source": [
				"a = get_cosine_table(encoder, dataloader)"
			]
		},
		{
			"cell_type": "code",
			"execution_count": null,
			"metadata": {},
			"outputs": [
				{
					"data": {
						"text/plain": [
							"(                    run                               jump  \\\n",
							" 0                  look                                run   \n",
							" 1                  walk                               walk   \n",
							" 2        walk after run                         turn right   \n",
							" 3  run thrice after run  look right twice after walk twice   \n",
							" 4   run twice after run        turn right after turn right   \n",
							" \n",
							"                                   run twice                    jump twice  \n",
							" 0                                look twice                 walk and walk  \n",
							" 1  run twice and look opposite right thrice                  run and walk  \n",
							" 2             run twice and run right twice  walk opposite right and walk  \n",
							" 3   run twice and look opposite right twice           look right and walk  \n",
							" 4                  walk twice and run twice           walk right and walk  ,\n",
							"         run      jump  run twice  jump twice\n",
							" 0  0.657821  0.242162   0.857804    0.364178\n",
							" 1  0.666306  0.244588   0.482909    0.335655\n",
							" 2  0.518814  0.174208   0.588244    0.242408\n",
							" 3  0.486369 -0.053355   0.621106    0.203411\n",
							" 4  0.487767 -0.021086   0.683558    0.217373)"
						]
					},
					"execution_count": 10,
					"metadata": {},
					"output_type": "execute_result"
				}
			],
			"source": [
				"a"
			]
		},
		{
			"cell_type": "code",
			"execution_count": null,
			"metadata": {},
			"outputs": [],
			"source": [
				"import torch"
			]
		},
		{
			"cell_type": "code",
			"execution_count": null,
			"metadata": {},
			"outputs": [],
			"source": [
				"cos = torch.nn.CosineSimilarity(dim=0, eps=1e-6)"
			]
		},
		{
			"cell_type": "code",
			"execution_count": null,
			"metadata": {},
			"outputs": [
				{
					"data": {
						"text/plain": [
							"tensor(0.)"
						]
					},
					"execution_count": 13,
					"metadata": {},
					"output_type": "execute_result"
				}
			],
			"source": [
				"cos(\n",
				"    torch.tensor([1, 2], dtype=torch.float),\n",
				"    torch.tensor([-2, 1], dtype=torch.float)\n",
				")"
			]
		},
		{
			"cell_type": "code",
			"execution_count": null,
			"metadata": {},
			"outputs": [],
			"source": [
				"# data = get_accuracy_across_length(\n",
				"#     filter=test_Y,  # Across test_Y\n",
				"#     test_X=test_X,\n",
				"#     test_Y=test_Y,\n",
				"#     encoder=encoder,\n",
				"#     decoder=decoder,\n",
				"#     input_max_length=dataloader.input_max_length\n",
				"# )"
			]
		},
		{
			"cell_type": "code",
			"execution_count": null,
			"metadata": {},
			"outputs": [
				{
					"ename": "KeyboardInterrupt",
					"evalue": "",
					"output_type": "error",
					"traceback": [
						"\u001b[0;31m---------------------------------------------------------------------------\u001b[0m",
						"\u001b[0;31mKeyboardInterrupt\u001b[0m                         Traceback (most recent call last)",
						"\u001b[0;32m/var/folders/j8/qdr4bmbd6vv8nydcr40cfdhw0000gn/T/ipykernel_54315/3651461690.py\u001b[0m in \u001b[0;36m<module>\u001b[0;34m\u001b[0m\n\u001b[0;32m----> 1\u001b[0;31m accuracy = get_accuracy(\n\u001b[0m\u001b[1;32m      2\u001b[0m     \u001b[0mtest_X\u001b[0m\u001b[0;34m=\u001b[0m\u001b[0mtest_X\u001b[0m\u001b[0;34m,\u001b[0m\u001b[0;34m\u001b[0m\u001b[0;34m\u001b[0m\u001b[0m\n\u001b[1;32m      3\u001b[0m     \u001b[0mtest_Y\u001b[0m\u001b[0;34m=\u001b[0m\u001b[0mtest_Y\u001b[0m\u001b[0;34m,\u001b[0m\u001b[0;34m\u001b[0m\u001b[0;34m\u001b[0m\u001b[0m\n\u001b[1;32m      4\u001b[0m     \u001b[0mencoder\u001b[0m\u001b[0;34m=\u001b[0m\u001b[0mencoder\u001b[0m\u001b[0;34m,\u001b[0m\u001b[0;34m\u001b[0m\u001b[0;34m\u001b[0m\u001b[0m\n\u001b[1;32m      5\u001b[0m     \u001b[0mdecoder\u001b[0m\u001b[0;34m=\u001b[0m\u001b[0mdecoder\u001b[0m\u001b[0;34m,\u001b[0m\u001b[0;34m\u001b[0m\u001b[0;34m\u001b[0m\u001b[0m\n",
						"\u001b[0;32m~/Desktop/Advanced-NLP-Paper-Implementation/Evaluate.py\u001b[0m in \u001b[0;36mget_accuracy\u001b[0;34m(test_X, test_Y, encoder, decoder, input_max_length, oracle)\u001b[0m\n\u001b[1;32m     40\u001b[0m             \u001b[0minput_length\u001b[0m \u001b[0;34m=\u001b[0m \u001b[0minput_tensor\u001b[0m\u001b[0;34m.\u001b[0m\u001b[0msize\u001b[0m\u001b[0;34m(\u001b[0m\u001b[0;36m0\u001b[0m\u001b[0;34m)\u001b[0m\u001b[0;34m\u001b[0m\u001b[0;34m\u001b[0m\u001b[0m\n\u001b[1;32m     41\u001b[0m \u001b[0;34m\u001b[0m\u001b[0m\n\u001b[0;32m---> 42\u001b[0;31m             encoder_outputs = torch.zeros(\n\u001b[0m\u001b[1;32m     43\u001b[0m                 \u001b[0minput_max_length\u001b[0m\u001b[0;34m,\u001b[0m \u001b[0mencoder\u001b[0m\u001b[0;34m.\u001b[0m\u001b[0mhidden_size\u001b[0m\u001b[0;34m,\u001b[0m \u001b[0mdevice\u001b[0m\u001b[0;34m=\u001b[0m\u001b[0mdevice\u001b[0m\u001b[0;34m\u001b[0m\u001b[0;34m\u001b[0m\u001b[0m\n\u001b[1;32m     44\u001b[0m             )\n",
						"\u001b[0;31mKeyboardInterrupt\u001b[0m: "
					]
				}
			],
			"source": [
				"accuracy = get_accuracy(\n",
				"    test_X=test_X,\n",
				"    test_Y=test_Y,\n",
				"    encoder=encoder,\n",
				"    decoder=decoder,\n",
				"    input_max_length=dataloader.input_max_length\n",
				")\n",
				"print(f'Accuracy: {accuracy}')"
			]
		},
		{
			"cell_type": "code",
			"execution_count": null,
			"metadata": {},
			"outputs": [],
			"source": [
				"# set the oracle as True to predict with length oracle\n",
				"accuracy = get_accuracy(\n",
				"    test_X=test_X,\n",
				"    test_Y=test_Y,\n",
				"    encoder=encoder,\n",
				"    decoder=decoder,\n",
				"    input_max_length=dataloader.input_max_length,\n",
				"    oracle=True\n",
				")\n",
				"print(f'Accuracy: {accuracy}')\n",
				"\n",
				"# also for across length\n",
				"# data = get_accuracy_across_length(\n",
				"#     filter=test_Y,  # Across test_Y\n",
				"#     test_X=test_X,\n",
				"#     test_Y=test_Y,\n",
				"#     encoder=encoder,\n",
				"#     decoder=decoder,\n",
				"#     input_max_length=dataloader.input_max_length,\n",
				"#     oracle=True\n",
				"# )"
			]
		},
		{
			"cell_type": "code",
			"execution_count": null,
			"metadata": {},
			"outputs": [],
			"source": [
				"input_string = \"look around right thrice and turn left thrice\"\n",
				"plot_attention(\n",
				"    encoder=encoder,\n",
				"    decoder=decoder,\n",
				"    dataloader=dataloader,\n",
				"    input_string=input_string,\n",
				"    figsize=(14, 6),\n",
				"    filename=\"attention1.png\"\n",
				")"
			]
		}
	],
	"metadata": {
		"kernelspec": {
			"display_name": "Python 3.9.13 ('base')",
			"language": "python",
			"name": "python3"
		},
		"language_info": {
			"codemirror_mode": {
				"name": "ipython",
				"version": 3
			},
			"file_extension": ".py",
			"mimetype": "text/x-python",
			"name": "python",
			"nbconvert_exporter": "python",
			"pygments_lexer": "ipython3",
			"version": "3.9.13"
		},
		"orig_nbformat": 4,
		"vscode": {
			"interpreter": {
				"hash": "59669bb1168edc622bb4dae0f982b2741a2a7b3cacb44a90a5e1c2622e59ac77"
			}
		}
	},
	"nbformat": 4,
	"nbformat_minor": 2
}
